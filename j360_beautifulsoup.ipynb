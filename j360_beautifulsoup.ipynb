{
 "cells": [
  {
   "cell_type": "code",
   "execution_count": 69,
   "id": "c627b273",
   "metadata": {},
   "outputs": [],
   "source": [
    "import requests\n",
    "from bs4 import BeautifulSoup\n",
    "from datetime import datetime\n",
    "import pandas as pd "
   ]
  },
  {
   "cell_type": "code",
   "execution_count": 9,
   "id": "29efcc7e",
   "metadata": {},
   "outputs": [],
   "source": [
    "# L'URL de la page web que vous souhaitez analyser\n",
    "url = \"https://www.j360.info/appels-d-offres/?cat=informatique-telecoms\"\n",
    "# Envoyer une requête HTTP pour obtenir le contenu de la page\n",
    "response = requests.get(url)"
   ]
  },
  {
   "cell_type": "code",
   "execution_count": 16,
   "id": "30a7df01",
   "metadata": {},
   "outputs": [],
   "source": [
    "countries_list = [\n",
    "    \"afrique-du-sud\", \"Algerie\", \"Angola\", \"Benin\", \"Botswana\", \"Burkina-Faso\", \"Burundi\",\n",
    "    \"Cameroun\", \"Cap-Vert\", \"Comores\", \"Congo\", \"cote-divoire\", \"Djibouti\", \"egypte\",\n",
    "    \"erythree\", \"ethiopie\", \"Gabon\", \"Gambie\", \"Ghana\", \"Guinee\", \"Guinee-Bissau\",\n",
    "    \"Guinee-equatoriale\", \"Kenya\", \"Lesotho\", \"Liberia\", \"libyenne-jamahiriya-arabe\", \"Madagascar\", \"Malawi\",\n",
    "    \"Mali\", \"Maroc\", \"Maurice\", \"Mauritanie\", \"Mozambique\", \"Namibie\", \"Niger\", \"Nigeria\",\n",
    "    \"Ouganda\", \"centrafricaine-republique\", \"congo-la-republique-democratique-du\", \"Rwanda\",\n",
    "    \"Sahara-Occidental\", \"Sao-Tome-Et-Principe\", \"Senegal\", \"Seychelles\", \"Sierra-Leone\",\n",
    "    \"Somalie\", \"Soudan\", \"Sud-Soudan\", \"Swaziland\", \"tanzanie-republique-unie-de\", \"Tchad\", \"Togo\", \"Tunisie\",\n",
    "    \"Zambie\", \"Zimbabwe\"]\n",
    "countries_list_lower = [country.lower() for country in countries_list]"
   ]
  },
  {
   "cell_type": "code",
   "execution_count": 58,
   "id": "0978fb42",
   "metadata": {},
   "outputs": [],
   "source": [
    "import requests\n",
    "from bs4 import BeautifulSoup\n",
    "\n",
    "base_url = \"https://www.j360.info/appels-d-offres/afrique/\"\n",
    "\n",
    "# Créez des listes vides pour stocker les données extraites\n",
    "titles = []\n",
    "localisations = []\n",
    "temps_restants = []\n",
    "deadline_dates = []\n",
    "links = []\n",
    "\n",
    "# Boucle sur chaque pays\n",
    "for country in countries_list_lower:\n",
    "    for page in range(1, 11):  # Boucle sur les 10 premières pages\n",
    "        url = f\"{base_url}{country}/?cat=informatique-telecoms&page={page}\"\n",
    "        response = requests.get(url)\n",
    "        \n",
    "        if response.status_code == 200:\n",
    "            soup = BeautifulSoup(response.text, 'html.parser')\n",
    "            \n",
    "            # Trouvez tous les éléments de lien\n",
    "            link_elements = soup.select('a.stretched-link')\n",
    "            for link_element in link_elements[:-1]:\n",
    "                link = link_element.get('href')\n",
    "                links.append(link)\n",
    "            \n",
    "            # Trouvez tous les éléments de carte\n",
    "            elements = soup.find_all(class_='card rounded-1 results-item mb-3')\n",
    "            for element in elements:\n",
    "                # Extrayez les données\n",
    "                title = element.find(class_='card-title').find('a').text.strip()\n",
    "                \n",
    "                # Trouvez l'élément \"Localisation\" s'il existe\n",
    "                localisation_element = element.find('span', text='Localisation')\n",
    "                localisation = localisation_element.find_next('span').text.strip() if localisation_element else None\n",
    "                \n",
    "                # Trouvez l'élément \"Temps restant\" s'il existe\n",
    "                temps_restant_element = element.find('span', text='Temps restant')\n",
    "                temps_restant = temps_restant_element.find_next('div').text.strip() if temps_restant_element else None\n",
    "                \n",
    "                # Trouvez l'élément \"deadline\" s'il existe\n",
    "                deadline_element = element.find(class_='item-detail-subvalue deadline')\n",
    "                deadline_date = deadline_element.text.strip() if deadline_element else None\n",
    "                \n",
    "                # Ajoutez les données extraites aux listes\n",
    "                titles.append(title)\n",
    "                temps_restants.append(temps_restant)\n",
    "                deadline_dates.append(deadline_date)\n",
    "                localisations.append(country)\n",
    "        else:\n",
    "            print(f\"La requête a échoué avec le code de statut {response.status_code} pour l'URL : {url}\")\n"
   ]
  },
  {
   "cell_type": "code",
   "execution_count": 44,
   "id": "da514290",
   "metadata": {},
   "outputs": [
    {
     "data": {
      "text/plain": [
       "4526"
      ]
     },
     "execution_count": 44,
     "metadata": {},
     "output_type": "execute_result"
    }
   ],
   "source": [
    "len(titles)"
   ]
  },
  {
   "cell_type": "code",
   "execution_count": 45,
   "id": "5606efba",
   "metadata": {},
   "outputs": [
    {
     "data": {
      "text/plain": [
       "4526"
      ]
     },
     "execution_count": 45,
     "metadata": {},
     "output_type": "execute_result"
    }
   ],
   "source": [
    "len(deadline_dates)"
   ]
  },
  {
   "cell_type": "code",
   "execution_count": 61,
   "id": "f0a4c96a",
   "metadata": {},
   "outputs": [
    {
     "data": {
      "text/plain": [
       "4526"
      ]
     },
     "execution_count": 61,
     "metadata": {},
     "output_type": "execute_result"
    }
   ],
   "source": [
    "len(links)"
   ]
  },
  {
   "cell_type": "code",
   "execution_count": 47,
   "id": "f4bc705b",
   "metadata": {},
   "outputs": [
    {
     "data": {
      "text/plain": [
       "4526"
      ]
     },
     "execution_count": 47,
     "metadata": {},
     "output_type": "execute_result"
    }
   ],
   "source": [
    "len(localisations)"
   ]
  },
  {
   "cell_type": "code",
   "execution_count": 62,
   "id": "b2091376",
   "metadata": {},
   "outputs": [],
   "source": [
    "import pandas as pd \n",
    "df = pd.DataFrame({'title': titles, 'pays': localisations,'deadline':deadline_dates,'lien':links})"
   ]
  },
  {
   "cell_type": "code",
   "execution_count": 63,
   "id": "bf04a280",
   "metadata": {},
   "outputs": [
    {
     "data": {
      "text/html": [
       "<div>\n",
       "<style scoped>\n",
       "    .dataframe tbody tr th:only-of-type {\n",
       "        vertical-align: middle;\n",
       "    }\n",
       "\n",
       "    .dataframe tbody tr th {\n",
       "        vertical-align: top;\n",
       "    }\n",
       "\n",
       "    .dataframe thead th {\n",
       "        text-align: right;\n",
       "    }\n",
       "</style>\n",
       "<table border=\"1\" class=\"dataframe\">\n",
       "  <thead>\n",
       "    <tr style=\"text-align: right;\">\n",
       "      <th></th>\n",
       "      <th>title</th>\n",
       "      <th>pays</th>\n",
       "      <th>deadline</th>\n",
       "      <th>lien</th>\n",
       "    </tr>\n",
       "  </thead>\n",
       "  <tbody>\n",
       "    <tr>\n",
       "      <th>0</th>\n",
       "      <td>Request To Establish An Accreditation Panel Fo...</td>\n",
       "      <td>afrique-du-sud</td>\n",
       "      <td>31/10/2023</td>\n",
       "      <td>https://www.j360.info/appels-d-offres/39657912...</td>\n",
       "    </tr>\n",
       "    <tr>\n",
       "      <th>1</th>\n",
       "      <td>Appointment of a service provider for the prov...</td>\n",
       "      <td>afrique-du-sud</td>\n",
       "      <td>08/11/2023</td>\n",
       "      <td>https://www.j360.info/appels-d-offres/39657902...</td>\n",
       "    </tr>\n",
       "    <tr>\n",
       "      <th>2</th>\n",
       "      <td>Supply and Delivery Hardware Renovation Material</td>\n",
       "      <td>afrique-du-sud</td>\n",
       "      <td>12/10/2023</td>\n",
       "      <td>https://www.j360.info/appels-d-offres/39657895...</td>\n",
       "    </tr>\n",
       "    <tr>\n",
       "      <th>3</th>\n",
       "      <td>SUPPLY AND DELIVERY OF TWO (2) CAMERAS AND SIX...</td>\n",
       "      <td>afrique-du-sud</td>\n",
       "      <td>13/10/2023</td>\n",
       "      <td>https://www.j360.info/appels-d-offres/39657896...</td>\n",
       "    </tr>\n",
       "    <tr>\n",
       "      <th>4</th>\n",
       "      <td>MANUFACTURE SUPPLY AND DELIVERY OF RTI DECALS</td>\n",
       "      <td>afrique-du-sud</td>\n",
       "      <td>13/10/2023</td>\n",
       "      <td>https://www.j360.info/appels-d-offres/39657886...</td>\n",
       "    </tr>\n",
       "    <tr>\n",
       "      <th>...</th>\n",
       "      <td>...</td>\n",
       "      <td>...</td>\n",
       "      <td>...</td>\n",
       "      <td>...</td>\n",
       "    </tr>\n",
       "    <tr>\n",
       "      <th>4521</th>\n",
       "      <td>LIV HOSPITALITY DESIGN AWARDS 2023</td>\n",
       "      <td>zimbabwe</td>\n",
       "      <td>31/01/2024</td>\n",
       "      <td>https://www.j360.info/appels-d-offres/37611303...</td>\n",
       "    </tr>\n",
       "    <tr>\n",
       "      <th>4522</th>\n",
       "      <td>The Nature Photography Contest 2023</td>\n",
       "      <td>zimbabwe</td>\n",
       "      <td>15/11/2023</td>\n",
       "      <td>https://www.j360.info/appels-d-offres/37548837...</td>\n",
       "    </tr>\n",
       "    <tr>\n",
       "      <th>4523</th>\n",
       "      <td>THE LIV HOSPITALITY DESIGN AWARDS 2023</td>\n",
       "      <td>zimbabwe</td>\n",
       "      <td>31/01/2024</td>\n",
       "      <td>https://www.j360.info/appels-d-offres/37371817...</td>\n",
       "    </tr>\n",
       "    <tr>\n",
       "      <th>4524</th>\n",
       "      <td>CALL FOR ENTRIES - LIT LIGHTING DESIGN AWARDS ...</td>\n",
       "      <td>zimbabwe</td>\n",
       "      <td>22/10/2023</td>\n",
       "      <td>https://www.j360.info/appels-d-offres/35301218...</td>\n",
       "    </tr>\n",
       "    <tr>\n",
       "      <th>4525</th>\n",
       "      <td>The 5th Chelsea International Photography Comp...</td>\n",
       "      <td>zimbabwe</td>\n",
       "      <td>24/10/2023</td>\n",
       "      <td>https://www.j360.info/appels-d-offres/34740533...</td>\n",
       "    </tr>\n",
       "  </tbody>\n",
       "</table>\n",
       "<p>4526 rows × 4 columns</p>\n",
       "</div>"
      ],
      "text/plain": [
       "                                                  title            pays  \\\n",
       "0     Request To Establish An Accreditation Panel Fo...  afrique-du-sud   \n",
       "1     Appointment of a service provider for the prov...  afrique-du-sud   \n",
       "2      Supply and Delivery Hardware Renovation Material  afrique-du-sud   \n",
       "3     SUPPLY AND DELIVERY OF TWO (2) CAMERAS AND SIX...  afrique-du-sud   \n",
       "4         MANUFACTURE SUPPLY AND DELIVERY OF RTI DECALS  afrique-du-sud   \n",
       "...                                                 ...             ...   \n",
       "4521                 LIV HOSPITALITY DESIGN AWARDS 2023        zimbabwe   \n",
       "4522                The Nature Photography Contest 2023        zimbabwe   \n",
       "4523             THE LIV HOSPITALITY DESIGN AWARDS 2023        zimbabwe   \n",
       "4524  CALL FOR ENTRIES - LIT LIGHTING DESIGN AWARDS ...        zimbabwe   \n",
       "4525  The 5th Chelsea International Photography Comp...        zimbabwe   \n",
       "\n",
       "        deadline                                               lien  \n",
       "0     31/10/2023  https://www.j360.info/appels-d-offres/39657912...  \n",
       "1     08/11/2023  https://www.j360.info/appels-d-offres/39657902...  \n",
       "2     12/10/2023  https://www.j360.info/appels-d-offres/39657895...  \n",
       "3     13/10/2023  https://www.j360.info/appels-d-offres/39657896...  \n",
       "4     13/10/2023  https://www.j360.info/appels-d-offres/39657886...  \n",
       "...          ...                                                ...  \n",
       "4521  31/01/2024  https://www.j360.info/appels-d-offres/37611303...  \n",
       "4522  15/11/2023  https://www.j360.info/appels-d-offres/37548837...  \n",
       "4523  31/01/2024  https://www.j360.info/appels-d-offres/37371817...  \n",
       "4524  22/10/2023  https://www.j360.info/appels-d-offres/35301218...  \n",
       "4525  24/10/2023  https://www.j360.info/appels-d-offres/34740533...  \n",
       "\n",
       "[4526 rows x 4 columns]"
      ]
     },
     "execution_count": 63,
     "metadata": {},
     "output_type": "execute_result"
    }
   ],
   "source": [
    "df"
   ]
  },
  {
   "cell_type": "code",
   "execution_count": 65,
   "id": "fb5f7196",
   "metadata": {},
   "outputs": [
    {
     "data": {
      "text/plain": [
       "0       31/10/2023\n",
       "1       08/11/2023\n",
       "2       12/10/2023\n",
       "3       13/10/2023\n",
       "4       13/10/2023\n",
       "           ...    \n",
       "4521    31/01/2024\n",
       "4522    15/11/2023\n",
       "4523    31/01/2024\n",
       "4524    22/10/2023\n",
       "4525    24/10/2023\n",
       "Name: deadline, Length: 4526, dtype: object"
      ]
     },
     "execution_count": 65,
     "metadata": {},
     "output_type": "execute_result"
    }
   ],
   "source": [
    "df[\"deadline\"]"
   ]
  },
  {
   "cell_type": "code",
   "execution_count": 72,
   "id": "1821c2b7",
   "metadata": {},
   "outputs": [],
   "source": [
    "# Convertissez les dates au format 'dd/mm/yyyy' en objets datetime\n",
    "dates = pd.to_datetime(df[\"deadline\"], format='%d/%m/%Y')\n",
    "# Obtenez la date actuelle\n",
    "date_actuelle = datetime.now()\n",
    "temps_restants = dates - date_actuelle"
   ]
  },
  {
   "cell_type": "code",
   "execution_count": 73,
   "id": "6d280cf5",
   "metadata": {
    "scrolled": true
   },
   "outputs": [
    {
     "data": {
      "text/plain": [
       "0       23 days 02:30:29.354240\n",
       "1       31 days 02:30:29.354240\n",
       "2        4 days 02:30:29.354240\n",
       "3        5 days 02:30:29.354240\n",
       "4        5 days 02:30:29.354240\n",
       "                 ...           \n",
       "4521   115 days 02:30:29.354240\n",
       "4522    38 days 02:30:29.354240\n",
       "4523   115 days 02:30:29.354240\n",
       "4524    14 days 02:30:29.354240\n",
       "4525    16 days 02:30:29.354240\n",
       "Name: deadline, Length: 4526, dtype: timedelta64[ns]"
      ]
     },
     "execution_count": 73,
     "metadata": {},
     "output_type": "execute_result"
    }
   ],
   "source": [
    "temps_restants"
   ]
  },
  {
   "cell_type": "code",
   "execution_count": 78,
   "id": "94d7eb97",
   "metadata": {},
   "outputs": [
    {
     "data": {
      "text/plain": [
       "0        23.0\n",
       "1        31.0\n",
       "2         4.0\n",
       "3         5.0\n",
       "4         5.0\n",
       "        ...  \n",
       "4521    115.0\n",
       "4522     38.0\n",
       "4523    115.0\n",
       "4524     14.0\n",
       "4525     16.0\n",
       "Name: deadline, Length: 4526, dtype: float64"
      ]
     },
     "execution_count": 78,
     "metadata": {},
     "output_type": "execute_result"
    }
   ],
   "source": [
    "# Obtenez le nombre de jours à partir de la série timedelta\n",
    "jours_restants = temps_restants.dt.days\n",
    "jours_restants"
   ]
  },
  {
   "cell_type": "code",
   "execution_count": 80,
   "id": "610543c6",
   "metadata": {},
   "outputs": [
    {
     "name": "stdout",
     "output_type": "stream",
     "text": [
      "0        23.0 days\n",
      "1        31.0 days\n",
      "2         4.0 days\n",
      "3         5.0 days\n",
      "4         5.0 days\n",
      "           ...    \n",
      "4521    115.0 days\n",
      "4522     38.0 days\n",
      "4523    115.0 days\n",
      "4524     14.0 days\n",
      "4525     16.0 days\n",
      "Name: deadline, Length: 4526, dtype: object\n"
     ]
    }
   ],
   "source": [
    "# Convertissez les nombres en chaînes de caractères et ajoutez \" days\"\n",
    "jours_restants_str = jours_restants.astype(str) + \" days\"\n",
    "\n",
    "# Affichez le résultat\n",
    "print(jours_restants_str)\n"
   ]
  },
  {
   "cell_type": "code",
   "execution_count": 82,
   "id": "57856d3b",
   "metadata": {},
   "outputs": [],
   "source": [
    "df[\"remaining_times\"]=jours_restants_str"
   ]
  },
  {
   "cell_type": "code",
   "execution_count": 83,
   "id": "16d5eeb3",
   "metadata": {},
   "outputs": [
    {
     "data": {
      "text/html": [
       "<div>\n",
       "<style scoped>\n",
       "    .dataframe tbody tr th:only-of-type {\n",
       "        vertical-align: middle;\n",
       "    }\n",
       "\n",
       "    .dataframe tbody tr th {\n",
       "        vertical-align: top;\n",
       "    }\n",
       "\n",
       "    .dataframe thead th {\n",
       "        text-align: right;\n",
       "    }\n",
       "</style>\n",
       "<table border=\"1\" class=\"dataframe\">\n",
       "  <thead>\n",
       "    <tr style=\"text-align: right;\">\n",
       "      <th></th>\n",
       "      <th>title</th>\n",
       "      <th>pays</th>\n",
       "      <th>deadline</th>\n",
       "      <th>lien</th>\n",
       "      <th>remaining_times</th>\n",
       "    </tr>\n",
       "  </thead>\n",
       "  <tbody>\n",
       "    <tr>\n",
       "      <th>0</th>\n",
       "      <td>Request To Establish An Accreditation Panel Fo...</td>\n",
       "      <td>afrique-du-sud</td>\n",
       "      <td>31/10/2023</td>\n",
       "      <td>https://www.j360.info/appels-d-offres/39657912...</td>\n",
       "      <td>23.0 days</td>\n",
       "    </tr>\n",
       "    <tr>\n",
       "      <th>1</th>\n",
       "      <td>Appointment of a service provider for the prov...</td>\n",
       "      <td>afrique-du-sud</td>\n",
       "      <td>08/11/2023</td>\n",
       "      <td>https://www.j360.info/appels-d-offres/39657902...</td>\n",
       "      <td>31.0 days</td>\n",
       "    </tr>\n",
       "    <tr>\n",
       "      <th>2</th>\n",
       "      <td>Supply and Delivery Hardware Renovation Material</td>\n",
       "      <td>afrique-du-sud</td>\n",
       "      <td>12/10/2023</td>\n",
       "      <td>https://www.j360.info/appels-d-offres/39657895...</td>\n",
       "      <td>4.0 days</td>\n",
       "    </tr>\n",
       "    <tr>\n",
       "      <th>3</th>\n",
       "      <td>SUPPLY AND DELIVERY OF TWO (2) CAMERAS AND SIX...</td>\n",
       "      <td>afrique-du-sud</td>\n",
       "      <td>13/10/2023</td>\n",
       "      <td>https://www.j360.info/appels-d-offres/39657896...</td>\n",
       "      <td>5.0 days</td>\n",
       "    </tr>\n",
       "    <tr>\n",
       "      <th>4</th>\n",
       "      <td>MANUFACTURE SUPPLY AND DELIVERY OF RTI DECALS</td>\n",
       "      <td>afrique-du-sud</td>\n",
       "      <td>13/10/2023</td>\n",
       "      <td>https://www.j360.info/appels-d-offres/39657886...</td>\n",
       "      <td>5.0 days</td>\n",
       "    </tr>\n",
       "    <tr>\n",
       "      <th>...</th>\n",
       "      <td>...</td>\n",
       "      <td>...</td>\n",
       "      <td>...</td>\n",
       "      <td>...</td>\n",
       "      <td>...</td>\n",
       "    </tr>\n",
       "    <tr>\n",
       "      <th>4521</th>\n",
       "      <td>LIV HOSPITALITY DESIGN AWARDS 2023</td>\n",
       "      <td>zimbabwe</td>\n",
       "      <td>31/01/2024</td>\n",
       "      <td>https://www.j360.info/appels-d-offres/37611303...</td>\n",
       "      <td>115.0 days</td>\n",
       "    </tr>\n",
       "    <tr>\n",
       "      <th>4522</th>\n",
       "      <td>The Nature Photography Contest 2023</td>\n",
       "      <td>zimbabwe</td>\n",
       "      <td>15/11/2023</td>\n",
       "      <td>https://www.j360.info/appels-d-offres/37548837...</td>\n",
       "      <td>38.0 days</td>\n",
       "    </tr>\n",
       "    <tr>\n",
       "      <th>4523</th>\n",
       "      <td>THE LIV HOSPITALITY DESIGN AWARDS 2023</td>\n",
       "      <td>zimbabwe</td>\n",
       "      <td>31/01/2024</td>\n",
       "      <td>https://www.j360.info/appels-d-offres/37371817...</td>\n",
       "      <td>115.0 days</td>\n",
       "    </tr>\n",
       "    <tr>\n",
       "      <th>4524</th>\n",
       "      <td>CALL FOR ENTRIES - LIT LIGHTING DESIGN AWARDS ...</td>\n",
       "      <td>zimbabwe</td>\n",
       "      <td>22/10/2023</td>\n",
       "      <td>https://www.j360.info/appels-d-offres/35301218...</td>\n",
       "      <td>14.0 days</td>\n",
       "    </tr>\n",
       "    <tr>\n",
       "      <th>4525</th>\n",
       "      <td>The 5th Chelsea International Photography Comp...</td>\n",
       "      <td>zimbabwe</td>\n",
       "      <td>24/10/2023</td>\n",
       "      <td>https://www.j360.info/appels-d-offres/34740533...</td>\n",
       "      <td>16.0 days</td>\n",
       "    </tr>\n",
       "  </tbody>\n",
       "</table>\n",
       "<p>4526 rows × 5 columns</p>\n",
       "</div>"
      ],
      "text/plain": [
       "                                                  title            pays  \\\n",
       "0     Request To Establish An Accreditation Panel Fo...  afrique-du-sud   \n",
       "1     Appointment of a service provider for the prov...  afrique-du-sud   \n",
       "2      Supply and Delivery Hardware Renovation Material  afrique-du-sud   \n",
       "3     SUPPLY AND DELIVERY OF TWO (2) CAMERAS AND SIX...  afrique-du-sud   \n",
       "4         MANUFACTURE SUPPLY AND DELIVERY OF RTI DECALS  afrique-du-sud   \n",
       "...                                                 ...             ...   \n",
       "4521                 LIV HOSPITALITY DESIGN AWARDS 2023        zimbabwe   \n",
       "4522                The Nature Photography Contest 2023        zimbabwe   \n",
       "4523             THE LIV HOSPITALITY DESIGN AWARDS 2023        zimbabwe   \n",
       "4524  CALL FOR ENTRIES - LIT LIGHTING DESIGN AWARDS ...        zimbabwe   \n",
       "4525  The 5th Chelsea International Photography Comp...        zimbabwe   \n",
       "\n",
       "        deadline                                               lien  \\\n",
       "0     31/10/2023  https://www.j360.info/appels-d-offres/39657912...   \n",
       "1     08/11/2023  https://www.j360.info/appels-d-offres/39657902...   \n",
       "2     12/10/2023  https://www.j360.info/appels-d-offres/39657895...   \n",
       "3     13/10/2023  https://www.j360.info/appels-d-offres/39657896...   \n",
       "4     13/10/2023  https://www.j360.info/appels-d-offres/39657886...   \n",
       "...          ...                                                ...   \n",
       "4521  31/01/2024  https://www.j360.info/appels-d-offres/37611303...   \n",
       "4522  15/11/2023  https://www.j360.info/appels-d-offres/37548837...   \n",
       "4523  31/01/2024  https://www.j360.info/appels-d-offres/37371817...   \n",
       "4524  22/10/2023  https://www.j360.info/appels-d-offres/35301218...   \n",
       "4525  24/10/2023  https://www.j360.info/appels-d-offres/34740533...   \n",
       "\n",
       "     remaining_times  \n",
       "0          23.0 days  \n",
       "1          31.0 days  \n",
       "2           4.0 days  \n",
       "3           5.0 days  \n",
       "4           5.0 days  \n",
       "...              ...  \n",
       "4521      115.0 days  \n",
       "4522       38.0 days  \n",
       "4523      115.0 days  \n",
       "4524       14.0 days  \n",
       "4525       16.0 days  \n",
       "\n",
       "[4526 rows x 5 columns]"
      ]
     },
     "execution_count": 83,
     "metadata": {},
     "output_type": "execute_result"
    }
   ],
   "source": [
    "df"
   ]
  },
  {
   "cell_type": "code",
   "execution_count": null,
   "id": "619e1baf",
   "metadata": {},
   "outputs": [],
   "source": []
  }
 ],
 "metadata": {
  "kernelspec": {
   "display_name": "Python 3 (ipykernel)",
   "language": "python",
   "name": "python3"
  },
  "language_info": {
   "codemirror_mode": {
    "name": "ipython",
    "version": 3
   },
   "file_extension": ".py",
   "mimetype": "text/x-python",
   "name": "python",
   "nbconvert_exporter": "python",
   "pygments_lexer": "ipython3",
   "version": "3.9.13"
  }
 },
 "nbformat": 4,
 "nbformat_minor": 5
}
